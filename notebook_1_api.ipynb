{
 "cells": [
  {
   "cell_type": "code",
   "execution_count": 1,
   "metadata": {},
   "outputs": [],
   "source": [
    "# import necessary libraries\n",
    "\n",
    "import numpy as np # linear algebra\n",
    "import pandas as pd # data processing\n",
    "\n",
    "import seaborn as sns # visualization\n",
    "\n",
    "import requests # run API requests\n",
    "\n",
    "import config # contains private API key"
   ]
  },
  {
   "cell_type": "markdown",
   "metadata": {},
   "source": [
    "## Accessing Yelp with an API"
   ]
  },
  {
   "cell_type": "markdown",
   "metadata": {},
   "source": [
    "#### Retrieving data on 200 restaurants in Cape Coral, Florida"
   ]
  },
  {
   "cell_type": "code",
   "execution_count": 2,
   "metadata": {},
   "outputs": [],
   "source": [
    "headers = config.headers"
   ]
  },
  {
   "cell_type": "code",
   "execution_count": 3,
   "metadata": {},
   "outputs": [],
   "source": [
    "offset = 0\n",
    "df = pd.DataFrame()\n",
    "\n",
    "for i in range (0,4):\n",
    "\n",
    "    offset = 51*i\n",
    "\n",
    "    headers = headers\n",
    "\n",
    "    params = {\n",
    "    'location': 'Cape Coral',\n",
    "    'limit': 50,\n",
    "    'offset': offset\n",
    "    }\n",
    "\n",
    "    business_url = config.business_endpoint\n",
    "    r_business = requests.get(business_url, headers=headers, params=params)\n",
    "    json = r_business.json()\n",
    "    df_retreived = pd.DataFrame(json['businesses'])\n",
    "\n",
    "    df = pd.concat([df, df_retreived])"
   ]
  },
  {
   "cell_type": "code",
   "execution_count": 4,
   "metadata": {},
   "outputs": [
    {
     "data": {
      "text/plain": [
       "0"
      ]
     },
     "execution_count": 4,
     "metadata": {},
     "output_type": "execute_result"
    }
   ],
   "source": [
    "df.duplicated(subset=[\"id\"]).sum()"
   ]
  },
  {
   "cell_type": "code",
   "execution_count": 5,
   "metadata": {},
   "outputs": [
    {
     "name": "stdout",
     "output_type": "stream",
     "text": [
      "We have retrieved data on 200 restaurants.\n"
     ]
    },
    {
     "data": {
      "text/html": [
       "<div>\n",
       "<style scoped>\n",
       "    .dataframe tbody tr th:only-of-type {\n",
       "        vertical-align: middle;\n",
       "    }\n",
       "\n",
       "    .dataframe tbody tr th {\n",
       "        vertical-align: top;\n",
       "    }\n",
       "\n",
       "    .dataframe thead th {\n",
       "        text-align: right;\n",
       "    }\n",
       "</style>\n",
       "<table border=\"1\" class=\"dataframe\">\n",
       "  <thead>\n",
       "    <tr style=\"text-align: right;\">\n",
       "      <th></th>\n",
       "      <th>id</th>\n",
       "      <th>alias</th>\n",
       "      <th>name</th>\n",
       "      <th>image_url</th>\n",
       "      <th>is_closed</th>\n",
       "      <th>url</th>\n",
       "      <th>review_count</th>\n",
       "      <th>categories</th>\n",
       "      <th>rating</th>\n",
       "      <th>coordinates</th>\n",
       "      <th>transactions</th>\n",
       "      <th>price</th>\n",
       "      <th>location</th>\n",
       "      <th>phone</th>\n",
       "      <th>display_phone</th>\n",
       "      <th>distance</th>\n",
       "    </tr>\n",
       "  </thead>\n",
       "  <tbody>\n",
       "    <tr>\n",
       "      <th>0</th>\n",
       "      <td>HlCoy0bDQbnWNyey_KJ2aQ</td>\n",
       "      <td>masala-mantra-the-indian-bistro-cape-coral</td>\n",
       "      <td>Masala Mantra - The Indian Bistro</td>\n",
       "      <td>https://s3-media4.fl.yelpcdn.com/bphoto/Xz4b59...</td>\n",
       "      <td>False</td>\n",
       "      <td>https://www.yelp.com/biz/masala-mantra-the-ind...</td>\n",
       "      <td>312</td>\n",
       "      <td>[{'alias': 'indpak', 'title': 'Indian'}]</td>\n",
       "      <td>5.0</td>\n",
       "      <td>{'latitude': 26.56804, 'longitude': -81.94428}</td>\n",
       "      <td>[pickup, delivery]</td>\n",
       "      <td>$$</td>\n",
       "      <td>{'address1': '4518 Del Prado Blvd', 'address2'...</td>\n",
       "      <td>+12395406300</td>\n",
       "      <td>(239) 540-6300</td>\n",
       "      <td>5280.082786</td>\n",
       "    </tr>\n",
       "    <tr>\n",
       "      <th>1</th>\n",
       "      <td>ZJrkzV5Gjti75MoZ_KTB4w</td>\n",
       "      <td>fish-tale-grill-by-merrick-seafood-cape-coral-2</td>\n",
       "      <td>Fish Tale Grill by Merrick Seafood</td>\n",
       "      <td>https://s3-media1.fl.yelpcdn.com/bphoto/aj1fXs...</td>\n",
       "      <td>False</td>\n",
       "      <td>https://www.yelp.com/biz/fish-tale-grill-by-me...</td>\n",
       "      <td>685</td>\n",
       "      <td>[{'alias': 'seafood', 'title': 'Seafood'}, {'a...</td>\n",
       "      <td>4.0</td>\n",
       "      <td>{'latitude': 26.56398838089358, 'longitude': -...</td>\n",
       "      <td>[delivery]</td>\n",
       "      <td>$$$</td>\n",
       "      <td>{'address1': '1229 SE 47th Ter', 'address2': '...</td>\n",
       "      <td>+12392573167</td>\n",
       "      <td>(239) 257-3167</td>\n",
       "      <td>5552.651668</td>\n",
       "    </tr>\n",
       "    <tr>\n",
       "      <th>2</th>\n",
       "      <td>sNPQETIQ88aNTwIyvymNLw</td>\n",
       "      <td>10-twenty-five-cape-coral</td>\n",
       "      <td>10 Twenty Five</td>\n",
       "      <td>https://s3-media3.fl.yelpcdn.com/bphoto/9A88Pg...</td>\n",
       "      <td>False</td>\n",
       "      <td>https://www.yelp.com/biz/10-twenty-five-cape-c...</td>\n",
       "      <td>407</td>\n",
       "      <td>[{'alias': 'newamerican', 'title': 'American (...</td>\n",
       "      <td>4.5</td>\n",
       "      <td>{'latitude': 26.6318, 'longitude': -81.97321}</td>\n",
       "      <td>[delivery]</td>\n",
       "      <td>$$</td>\n",
       "      <td>{'address1': '1025 Santa Barbara Blvd', 'addre...</td>\n",
       "      <td>+12398290407</td>\n",
       "      <td>(239) 829-0407</td>\n",
       "      <td>2393.136391</td>\n",
       "    </tr>\n",
       "    <tr>\n",
       "      <th>3</th>\n",
       "      <td>WIgR1oNiTgOiZq3YAd7OYA</td>\n",
       "      <td>cafè-you-cape-coral</td>\n",
       "      <td>Cafè YOU</td>\n",
       "      <td>https://s3-media1.fl.yelpcdn.com/bphoto/W6jpFW...</td>\n",
       "      <td>False</td>\n",
       "      <td>https://www.yelp.com/biz/caf%C3%A8-you-cape-co...</td>\n",
       "      <td>247</td>\n",
       "      <td>[{'alias': 'gluten_free', 'title': 'Gluten-Fre...</td>\n",
       "      <td>4.5</td>\n",
       "      <td>{'latitude': 26.634242, 'longitude': -81.94314}</td>\n",
       "      <td>[delivery]</td>\n",
       "      <td>$</td>\n",
       "      <td>{'address1': '1423 SE 10th St', 'address2': 'U...</td>\n",
       "      <td>+12396000966</td>\n",
       "      <td>(239) 600-0966</td>\n",
       "      <td>3299.004190</td>\n",
       "    </tr>\n",
       "    <tr>\n",
       "      <th>4</th>\n",
       "      <td>63KRuBDeIG5TkXqv9u8-Wg</td>\n",
       "      <td>twisted-lobster-cape-coral-5</td>\n",
       "      <td>Twisted Lobster</td>\n",
       "      <td>https://s3-media4.fl.yelpcdn.com/bphoto/NlG92F...</td>\n",
       "      <td>False</td>\n",
       "      <td>https://www.yelp.com/biz/twisted-lobster-cape-...</td>\n",
       "      <td>547</td>\n",
       "      <td>[{'alias': 'seafood', 'title': 'Seafood'}, {'a...</td>\n",
       "      <td>4.5</td>\n",
       "      <td>{'latitude': 26.626746529285345, 'longitude': ...</td>\n",
       "      <td>[pickup, delivery]</td>\n",
       "      <td>$$</td>\n",
       "      <td>{'address1': '1341 Del Prado Blvd S', 'address...</td>\n",
       "      <td>+12398002879</td>\n",
       "      <td>(239) 800-2879</td>\n",
       "      <td>2949.147081</td>\n",
       "    </tr>\n",
       "  </tbody>\n",
       "</table>\n",
       "</div>"
      ],
      "text/plain": [
       "                       id                                            alias  \\\n",
       "0  HlCoy0bDQbnWNyey_KJ2aQ       masala-mantra-the-indian-bistro-cape-coral   \n",
       "1  ZJrkzV5Gjti75MoZ_KTB4w  fish-tale-grill-by-merrick-seafood-cape-coral-2   \n",
       "2  sNPQETIQ88aNTwIyvymNLw                        10-twenty-five-cape-coral   \n",
       "3  WIgR1oNiTgOiZq3YAd7OYA                              cafè-you-cape-coral   \n",
       "4  63KRuBDeIG5TkXqv9u8-Wg                     twisted-lobster-cape-coral-5   \n",
       "\n",
       "                                 name  \\\n",
       "0   Masala Mantra - The Indian Bistro   \n",
       "1  Fish Tale Grill by Merrick Seafood   \n",
       "2                      10 Twenty Five   \n",
       "3                            Cafè YOU   \n",
       "4                     Twisted Lobster   \n",
       "\n",
       "                                           image_url  is_closed  \\\n",
       "0  https://s3-media4.fl.yelpcdn.com/bphoto/Xz4b59...      False   \n",
       "1  https://s3-media1.fl.yelpcdn.com/bphoto/aj1fXs...      False   \n",
       "2  https://s3-media3.fl.yelpcdn.com/bphoto/9A88Pg...      False   \n",
       "3  https://s3-media1.fl.yelpcdn.com/bphoto/W6jpFW...      False   \n",
       "4  https://s3-media4.fl.yelpcdn.com/bphoto/NlG92F...      False   \n",
       "\n",
       "                                                 url  review_count  \\\n",
       "0  https://www.yelp.com/biz/masala-mantra-the-ind...           312   \n",
       "1  https://www.yelp.com/biz/fish-tale-grill-by-me...           685   \n",
       "2  https://www.yelp.com/biz/10-twenty-five-cape-c...           407   \n",
       "3  https://www.yelp.com/biz/caf%C3%A8-you-cape-co...           247   \n",
       "4  https://www.yelp.com/biz/twisted-lobster-cape-...           547   \n",
       "\n",
       "                                          categories  rating  \\\n",
       "0           [{'alias': 'indpak', 'title': 'Indian'}]     5.0   \n",
       "1  [{'alias': 'seafood', 'title': 'Seafood'}, {'a...     4.0   \n",
       "2  [{'alias': 'newamerican', 'title': 'American (...     4.5   \n",
       "3  [{'alias': 'gluten_free', 'title': 'Gluten-Fre...     4.5   \n",
       "4  [{'alias': 'seafood', 'title': 'Seafood'}, {'a...     4.5   \n",
       "\n",
       "                                         coordinates        transactions  \\\n",
       "0     {'latitude': 26.56804, 'longitude': -81.94428}  [pickup, delivery]   \n",
       "1  {'latitude': 26.56398838089358, 'longitude': -...          [delivery]   \n",
       "2      {'latitude': 26.6318, 'longitude': -81.97321}          [delivery]   \n",
       "3    {'latitude': 26.634242, 'longitude': -81.94314}          [delivery]   \n",
       "4  {'latitude': 26.626746529285345, 'longitude': ...  [pickup, delivery]   \n",
       "\n",
       "  price                                           location         phone  \\\n",
       "0    $$  {'address1': '4518 Del Prado Blvd', 'address2'...  +12395406300   \n",
       "1   $$$  {'address1': '1229 SE 47th Ter', 'address2': '...  +12392573167   \n",
       "2    $$  {'address1': '1025 Santa Barbara Blvd', 'addre...  +12398290407   \n",
       "3     $  {'address1': '1423 SE 10th St', 'address2': 'U...  +12396000966   \n",
       "4    $$  {'address1': '1341 Del Prado Blvd S', 'address...  +12398002879   \n",
       "\n",
       "    display_phone     distance  \n",
       "0  (239) 540-6300  5280.082786  \n",
       "1  (239) 257-3167  5552.651668  \n",
       "2  (239) 829-0407  2393.136391  \n",
       "3  (239) 600-0966  3299.004190  \n",
       "4  (239) 800-2879  2949.147081  "
      ]
     },
     "execution_count": 5,
     "metadata": {},
     "output_type": "execute_result"
    }
   ],
   "source": [
    "print(f\"We have retrieved data on {df.shape[0]} restaurants.\")\n",
    "df.head(5)"
   ]
  },
  {
   "cell_type": "markdown",
   "metadata": {},
   "source": [
    "#### Retrieving 3 reviews per restaurant in df"
   ]
  },
  {
   "cell_type": "code",
   "execution_count": 6,
   "metadata": {},
   "outputs": [],
   "source": [
    "df_reviews = pd.DataFrame()\n",
    "\n",
    "for i in range (0,199):\n",
    "\n",
    "    headers = headers\n",
    "\n",
    "    business_id = df[\"id\"].iloc[i]\n",
    "    business_url = \"https://api.yelp.com/v3/businesses/\" + business_id + \"/reviews\"\n",
    "\n",
    "    r_business = requests.get(business_url, headers=headers)\n",
    "    json = r_business.json()\n",
    "    df_retreived = pd.DataFrame(json['reviews'])\n",
    "\n",
    "    df_reviews = pd.concat([df_reviews, df_retreived])"
   ]
  },
  {
   "cell_type": "code",
   "execution_count": 7,
   "metadata": {},
   "outputs": [
    {
     "name": "stdout",
     "output_type": "stream",
     "text": [
      "We have retrieved 597 reviews for our 200 restaurants.\n"
     ]
    },
    {
     "data": {
      "text/html": [
       "<div>\n",
       "<style scoped>\n",
       "    .dataframe tbody tr th:only-of-type {\n",
       "        vertical-align: middle;\n",
       "    }\n",
       "\n",
       "    .dataframe tbody tr th {\n",
       "        vertical-align: top;\n",
       "    }\n",
       "\n",
       "    .dataframe thead th {\n",
       "        text-align: right;\n",
       "    }\n",
       "</style>\n",
       "<table border=\"1\" class=\"dataframe\">\n",
       "  <thead>\n",
       "    <tr style=\"text-align: right;\">\n",
       "      <th></th>\n",
       "      <th>id</th>\n",
       "      <th>url</th>\n",
       "      <th>text</th>\n",
       "      <th>rating</th>\n",
       "      <th>time_created</th>\n",
       "      <th>user</th>\n",
       "    </tr>\n",
       "  </thead>\n",
       "  <tbody>\n",
       "    <tr>\n",
       "      <th>0</th>\n",
       "      <td>VNG-cm3VXbTR6dKs8sGkNw</td>\n",
       "      <td>https://www.yelp.com/biz/masala-mantra-the-ind...</td>\n",
       "      <td>Very authentic and delicious Indian food. Staf...</td>\n",
       "      <td>5</td>\n",
       "      <td>2022-08-15 18:15:15</td>\n",
       "      <td>{'id': 'qXKA73uEtcna7wTjhUiDlg', 'profile_url'...</td>\n",
       "    </tr>\n",
       "    <tr>\n",
       "      <th>1</th>\n",
       "      <td>d6HtGiWtCzGj2zdsU6T0gg</td>\n",
       "      <td>https://www.yelp.com/biz/masala-mantra-the-ind...</td>\n",
       "      <td>This is my 3rd visit to Masala Mantra and I ha...</td>\n",
       "      <td>5</td>\n",
       "      <td>2022-07-26 15:12:05</td>\n",
       "      <td>{'id': 'aJc9aNkwWuZq5RBdt8RuSQ', 'profile_url'...</td>\n",
       "    </tr>\n",
       "    <tr>\n",
       "      <th>2</th>\n",
       "      <td>flMmNpqgGzPvVJeNZlTkDw</td>\n",
       "      <td>https://www.yelp.com/biz/masala-mantra-the-ind...</td>\n",
       "      <td>Amazing Indian food. The quality with incredib...</td>\n",
       "      <td>5</td>\n",
       "      <td>2022-09-24 18:47:56</td>\n",
       "      <td>{'id': 'si0DOjWcRLOLl_VD6rWuSA', 'profile_url'...</td>\n",
       "    </tr>\n",
       "    <tr>\n",
       "      <th>0</th>\n",
       "      <td>07e9cGj8qHWuvfocOCGDhA</td>\n",
       "      <td>https://www.yelp.com/biz/fish-tale-grill-by-me...</td>\n",
       "      <td>Great Brunch today! 9/11/22 I just had a Filet...</td>\n",
       "      <td>5</td>\n",
       "      <td>2022-09-11 08:41:32</td>\n",
       "      <td>{'id': 'NFeTfoQy2nAzJaSe8PutAg', 'profile_url'...</td>\n",
       "    </tr>\n",
       "    <tr>\n",
       "      <th>1</th>\n",
       "      <td>EQGg16VvVBRBICNC3ZuoaQ</td>\n",
       "      <td>https://www.yelp.com/biz/fish-tale-grill-by-me...</td>\n",
       "      <td>A Cape Coral MUST GO!\\n\\nKids love it, grandpa...</td>\n",
       "      <td>5</td>\n",
       "      <td>2022-08-26 12:32:21</td>\n",
       "      <td>{'id': 'dtyJ2p7hW5zM0EEI744Zkg', 'profile_url'...</td>\n",
       "    </tr>\n",
       "  </tbody>\n",
       "</table>\n",
       "</div>"
      ],
      "text/plain": [
       "                       id                                                url  \\\n",
       "0  VNG-cm3VXbTR6dKs8sGkNw  https://www.yelp.com/biz/masala-mantra-the-ind...   \n",
       "1  d6HtGiWtCzGj2zdsU6T0gg  https://www.yelp.com/biz/masala-mantra-the-ind...   \n",
       "2  flMmNpqgGzPvVJeNZlTkDw  https://www.yelp.com/biz/masala-mantra-the-ind...   \n",
       "0  07e9cGj8qHWuvfocOCGDhA  https://www.yelp.com/biz/fish-tale-grill-by-me...   \n",
       "1  EQGg16VvVBRBICNC3ZuoaQ  https://www.yelp.com/biz/fish-tale-grill-by-me...   \n",
       "\n",
       "                                                text  rating  \\\n",
       "0  Very authentic and delicious Indian food. Staf...       5   \n",
       "1  This is my 3rd visit to Masala Mantra and I ha...       5   \n",
       "2  Amazing Indian food. The quality with incredib...       5   \n",
       "0  Great Brunch today! 9/11/22 I just had a Filet...       5   \n",
       "1  A Cape Coral MUST GO!\\n\\nKids love it, grandpa...       5   \n",
       "\n",
       "          time_created                                               user  \n",
       "0  2022-08-15 18:15:15  {'id': 'qXKA73uEtcna7wTjhUiDlg', 'profile_url'...  \n",
       "1  2022-07-26 15:12:05  {'id': 'aJc9aNkwWuZq5RBdt8RuSQ', 'profile_url'...  \n",
       "2  2022-09-24 18:47:56  {'id': 'si0DOjWcRLOLl_VD6rWuSA', 'profile_url'...  \n",
       "0  2022-09-11 08:41:32  {'id': 'NFeTfoQy2nAzJaSe8PutAg', 'profile_url'...  \n",
       "1  2022-08-26 12:32:21  {'id': 'dtyJ2p7hW5zM0EEI744Zkg', 'profile_url'...  "
      ]
     },
     "execution_count": 7,
     "metadata": {},
     "output_type": "execute_result"
    }
   ],
   "source": [
    "print(f\"We have retrieved {df_reviews.shape[0]} reviews for our 200 restaurants.\")\n",
    "df_reviews.head(5)"
   ]
  },
  {
   "cell_type": "code",
   "execution_count": 8,
   "metadata": {},
   "outputs": [],
   "source": [
    "df_reviews.to_csv('reviews.csv', index=False)"
   ]
  },
  {
   "cell_type": "code",
   "execution_count": 9,
   "metadata": {},
   "outputs": [],
   "source": [
    "# keep only the \"text\" and \"rating\" column\n",
    "\n",
    "df_reviews = df_reviews[['text', 'rating']]"
   ]
  },
  {
   "cell_type": "code",
   "execution_count": 10,
   "metadata": {},
   "outputs": [
    {
     "data": {
      "text/plain": [
       "Text(0.5, 1.0, 'Distribution of client ratings 1 to 5')"
      ]
     },
     "execution_count": 10,
     "metadata": {},
     "output_type": "execute_result"
    },
    {
     "data": {
      "image/png": "[encoded data removed]",
      "text/plain": [
       "<Figure size 640x480 with 1 Axes>"
      ]
     },
     "metadata": {},
     "output_type": "display_data"
    }
   ],
   "source": [
    "chart = df_reviews.rating.value_counts().plot(kind=\"pie\")\n",
    "chart.set_title(\"Distribution of client ratings 1 to 5\")"
   ]
  },
  {
   "cell_type": "code",
   "execution_count": 11,
   "metadata": {},
   "outputs": [],
   "source": [
    "# Since we are interested in analyzing only the negative reviews,\n",
    "# we will keep only the reviews with a rating of 1 or 2\n",
    "\n",
    "df_bad_reviews = df_reviews[df_reviews['rating'] < 2]"
   ]
  },
  {
   "cell_type": "code",
   "execution_count": 12,
   "metadata": {},
   "outputs": [
    {
     "name": "stdout",
     "output_type": "stream",
     "text": [
      "After applying the filter we are left with 34 bad reviews.\n"
     ]
    },
    {
     "data": {
      "text/html": [
       "<div>\n",
       "<style scoped>\n",
       "    .dataframe tbody tr th:only-of-type {\n",
       "        vertical-align: middle;\n",
       "    }\n",
       "\n",
       "    .dataframe tbody tr th {\n",
       "        vertical-align: top;\n",
       "    }\n",
       "\n",
       "    .dataframe thead th {\n",
       "        text-align: right;\n",
       "    }\n",
       "</style>\n",
       "<table border=\"1\" class=\"dataframe\">\n",
       "  <thead>\n",
       "    <tr style=\"text-align: right;\">\n",
       "      <th></th>\n",
       "      <th>text</th>\n",
       "      <th>rating</th>\n",
       "    </tr>\n",
       "  </thead>\n",
       "  <tbody>\n",
       "    <tr>\n",
       "      <th>2</th>\n",
       "      <td>I don't understand the high ratings. \\nOur ser...</td>\n",
       "      <td>1</td>\n",
       "    </tr>\n",
       "    <tr>\n",
       "      <th>1</th>\n",
       "      <td>Came in for a family dinner while visiting Cap...</td>\n",
       "      <td>1</td>\n",
       "    </tr>\n",
       "    <tr>\n",
       "      <th>1</th>\n",
       "      <td>*UPDATE* I received a response to my original ...</td>\n",
       "      <td>1</td>\n",
       "    </tr>\n",
       "    <tr>\n",
       "      <th>2</th>\n",
       "      <td>We have been customers for many years. We have...</td>\n",
       "      <td>1</td>\n",
       "    </tr>\n",
       "    <tr>\n",
       "      <th>1</th>\n",
       "      <td>My husband was eating a manicotti meal, and as...</td>\n",
       "      <td>1</td>\n",
       "    </tr>\n",
       "  </tbody>\n",
       "</table>\n",
       "</div>"
      ],
      "text/plain": [
       "                                                text  rating\n",
       "2  I don't understand the high ratings. \\nOur ser...       1\n",
       "1  Came in for a family dinner while visiting Cap...       1\n",
       "1  *UPDATE* I received a response to my original ...       1\n",
       "2  We have been customers for many years. We have...       1\n",
       "1  My husband was eating a manicotti meal, and as...       1"
      ]
     },
     "execution_count": 12,
     "metadata": {},
     "output_type": "execute_result"
    }
   ],
   "source": [
    "print(f\"After applying the filter we are left with {df_bad_reviews.shape[0]} bad reviews.\")\n",
    "df_bad_reviews.head(5)"
   ]
  },
  {
   "cell_type": "code",
   "execution_count": 13,
   "metadata": {},
   "outputs": [],
   "source": [
    "df_bad_reviews.to_csv('Ponomarjova_Katrin_1_csv_092022.csv', index=False)"
   ]
  },
  {
   "cell_type": "markdown",
   "metadata": {},
   "source": [
    "### Conclusion \n",
    "\n",
    "We can see that out of 597 reviews, we can only obtain 34 negative reviews (numbers may change when running this code again but the proportion should stay similar). This is due to the fact that the Yelp API only allows us to retreive 3 reviews from each restaurant, and the chances of that review being negative are low. We then need to run our \"business retreival\" loop many times in order to retreive enough business IDs, only then to run another loop, the \"review retrieval\" loop, to only retreive 3 reviews per business. \n",
    "\n",
    "In order to properly analyze the negative reviews and model the topics of dissatisfaction, we need thousands or even tens of thousands of negative reviews. In conclusion, it is probably less time consuming and more computationally simple to download the entire dataset from Yelp and filter it for negative reviews."
   ]
  }
 ],
 "metadata": {
  "kernelspec": {
   "display_name": "Python 3.10.7 ('avis_restau_venv': venv)",
   "language": "python",
   "name": "python3"
  },
  "language_info": {
   "codemirror_mode": {
    "name": "ipython",
    "version": 3
   },
   "file_extension": ".py",
   "mimetype": "text/x-python",
   "name": "python",
   "nbconvert_exporter": "python",
   "pygments_lexer": "ipython3",
   "version": "3.10.7"
  },
  "orig_nbformat": 4,
  "vscode": {
   "interpreter": {
    "hash": "aa9a0d86a043ba1e06714ae79c3a61848b31ec62debe12703620eb637c45f685"
   }
  }
 },
 "nbformat": 4,
 "nbformat_minor": 2
}
